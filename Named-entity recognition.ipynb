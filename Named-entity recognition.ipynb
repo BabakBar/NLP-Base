{
 "cells": [
  {
   "cell_type": "code",
   "execution_count": 6,
   "metadata": {},
   "outputs": [],
   "source": [
    "# Named entity recognitation, NER\n",
    "# identify important named in text, tag colors\n",
    "# NLTK & Stanford CoreNLP Library"
   ]
  },
  {
   "cell_type": "code",
   "execution_count": 14,
   "metadata": {},
   "outputs": [],
   "source": [
    "# Along with nltk, sent_tokenize and word_tokenize from nltk.tokenize\n",
    "# First we tokenize article into sentences \n",
    "import nltk\n",
    "article = '\\ufeffThe taxi-hailing company Uber brings into very sharp focus the question of whether corporations can be said to have a moral character. If any human being were to behave with the single-minded and ruthless greed of the company, we would consider them sociopathic. Uber wanted to know as much as possible about the people who use its service, and those who don’t. It has an arrangement with unroll.me, a company which offered a free service for unsubscribing from junk mail, to buy the contacts unroll.me customers had had with rival taxi companies. Even if their email was notionally anonymised, this use of it was not something the users had bargained for. Beyond that, it keeps track of the phones that have been used to summon its services even after the original owner has sold them, attempting this with Apple’s phones even thought it is forbidden by the company.\\r\\n\\r\\n\\r\\nUber has also tweaked its software so that regulatory agencies that the company regarded as hostile would, when they tried to hire a driver, be given false reports about the location of its cars. Uber management booked and then cancelled rides with a rival taxi-hailing company which took their vehicles out of circulation. Uber deny this was the intention. The punishment for this behaviour was negligible. Uber promised not to use this “greyball” software against law enforcement – one wonders what would happen to someone carrying a knife who promised never to stab a policeman with it. Travis Kalanick of Uber got a personal dressing down from Tim Cook, who runs Apple, but the company did not prohibit the use of the app. Too much money was at stake for that.\\r\\n\\r\\n\\r\\nMillions of people around the world value the cheapness and convenience of Uber’s rides too much to care about the lack of drivers’ rights or pay. Many of the users themselves are not much richer than the drivers. The “sharing economy” encourages the insecure and exploited to exploit others equally insecure to the profit of a tiny clique of billionaires. Silicon Valley’s culture seems hostile to humane and democratic values. The outgoing CEO of Yahoo, Marissa Mayer, who is widely judged to have been a failure, is likely to get a $186m payout. This may not be a cause for panic, any more than the previous hero worship should have been a cause for euphoria. Yet there’s an urgent political task to tame these companies, to ensure they are punished when they break the law, that they pay their taxes fairly and that they behave responsibly.'\n",
    "\n",
    "# Tokenize article into sentences.\n",
    "sentences = nltk.sent_tokenize(article)"
   ]
  },
  {
   "cell_type": "code",
   "execution_count": 15,
   "metadata": {},
   "outputs": [],
   "source": [
    "# Tokenize each sentence into words: token_sentences\n",
    "\n",
    "token_sentences = [nltk.word_tokenize(sent) for sent in sentences]"
   ]
  },
  {
   "cell_type": "code",
   "execution_count": 16,
   "metadata": {},
   "outputs": [],
   "source": [
    "# Inside a list comprehension, tag each tokenized sentence into parts of speech using nltk.pos_tag()\n",
    "\n",
    "pos_sentence = [nltk.pos_tag(sent) for sent in token_sentences]"
   ]
  },
  {
   "cell_type": "code",
   "execution_count": 17,
   "metadata": {},
   "outputs": [
    {
     "ename": "LookupError",
     "evalue": "\n**********************************************************************\n  Resource \u001b[93mmaxent_ne_chunker\u001b[0m not found.\n  Please use the NLTK Downloader to obtain the resource:\n\n  \u001b[31m>>> import nltk\n  >>> nltk.download('maxent_ne_chunker')\n  \u001b[0m\n  For more information see: https://www.nltk.org/data.html\n\n  Attempted to load \u001b[93mchunkers/maxent_ne_chunker/PY3/english_ace_binary.pickle\u001b[0m\n\n  Searched in:\n    - '/Users/Sia/nltk_data'\n    - '/Users/Sia/opt/anaconda3/nltk_data'\n    - '/Users/Sia/opt/anaconda3/share/nltk_data'\n    - '/Users/Sia/opt/anaconda3/lib/nltk_data'\n    - '/usr/share/nltk_data'\n    - '/usr/local/share/nltk_data'\n    - '/usr/lib/nltk_data'\n    - '/usr/local/lib/nltk_data'\n    - ''\n**********************************************************************\n",
     "output_type": "error",
     "traceback": [
      "\u001b[0;31m---------------------------------------------------------------------------\u001b[0m",
      "\u001b[0;31mLookupError\u001b[0m                               Traceback (most recent call last)",
      "\u001b[0;32m<ipython-input-17-ad1f4a63603c>\u001b[0m in \u001b[0;36m<module>\u001b[0;34m\u001b[0m\n\u001b[1;32m      1\u001b[0m \u001b[0;31m# Chunk each tagged sentence into named-entity chunks using nltk.ne_chunk_sents(). Along with pos_sentences, specify the additional keyword argument binary=True.\u001b[0m\u001b[0;34m\u001b[0m\u001b[0;34m\u001b[0m\u001b[0;34m\u001b[0m\u001b[0m\n\u001b[1;32m      2\u001b[0m \u001b[0;34m\u001b[0m\u001b[0m\n\u001b[0;32m----> 3\u001b[0;31m \u001b[0mchunked_sententes\u001b[0m \u001b[0;34m=\u001b[0m \u001b[0mnltk\u001b[0m\u001b[0;34m.\u001b[0m\u001b[0mne_chunk_sents\u001b[0m\u001b[0;34m(\u001b[0m\u001b[0mpos_sentence\u001b[0m\u001b[0;34m,\u001b[0m \u001b[0mbinary\u001b[0m\u001b[0;34m=\u001b[0m\u001b[0;32mTrue\u001b[0m\u001b[0;34m)\u001b[0m\u001b[0;34m\u001b[0m\u001b[0;34m\u001b[0m\u001b[0m\n\u001b[0m",
      "\u001b[0;32m~/opt/anaconda3/lib/python3.8/site-packages/nltk/chunk/__init__.py\u001b[0m in \u001b[0;36mne_chunk_sents\u001b[0;34m(tagged_sentences, binary)\u001b[0m\n\u001b[1;32m    196\u001b[0m     \u001b[0;32melse\u001b[0m\u001b[0;34m:\u001b[0m\u001b[0;34m\u001b[0m\u001b[0;34m\u001b[0m\u001b[0m\n\u001b[1;32m    197\u001b[0m         \u001b[0mchunker_pickle\u001b[0m \u001b[0;34m=\u001b[0m \u001b[0m_MULTICLASS_NE_CHUNKER\u001b[0m\u001b[0;34m\u001b[0m\u001b[0;34m\u001b[0m\u001b[0m\n\u001b[0;32m--> 198\u001b[0;31m     \u001b[0mchunker\u001b[0m \u001b[0;34m=\u001b[0m \u001b[0mload\u001b[0m\u001b[0;34m(\u001b[0m\u001b[0mchunker_pickle\u001b[0m\u001b[0;34m)\u001b[0m\u001b[0;34m\u001b[0m\u001b[0;34m\u001b[0m\u001b[0m\n\u001b[0m\u001b[1;32m    199\u001b[0m     \u001b[0;32mreturn\u001b[0m \u001b[0mchunker\u001b[0m\u001b[0;34m.\u001b[0m\u001b[0mparse_sents\u001b[0m\u001b[0;34m(\u001b[0m\u001b[0mtagged_sentences\u001b[0m\u001b[0;34m)\u001b[0m\u001b[0;34m\u001b[0m\u001b[0;34m\u001b[0m\u001b[0m\n",
      "\u001b[0;32m~/opt/anaconda3/lib/python3.8/site-packages/nltk/data.py\u001b[0m in \u001b[0;36mload\u001b[0;34m(resource_url, format, cache, verbose, logic_parser, fstruct_reader, encoding)\u001b[0m\n\u001b[1;32m    748\u001b[0m \u001b[0;34m\u001b[0m\u001b[0m\n\u001b[1;32m    749\u001b[0m     \u001b[0;31m# Load the resource.\u001b[0m\u001b[0;34m\u001b[0m\u001b[0;34m\u001b[0m\u001b[0;34m\u001b[0m\u001b[0m\n\u001b[0;32m--> 750\u001b[0;31m     \u001b[0mopened_resource\u001b[0m \u001b[0;34m=\u001b[0m \u001b[0m_open\u001b[0m\u001b[0;34m(\u001b[0m\u001b[0mresource_url\u001b[0m\u001b[0;34m)\u001b[0m\u001b[0;34m\u001b[0m\u001b[0;34m\u001b[0m\u001b[0m\n\u001b[0m\u001b[1;32m    751\u001b[0m \u001b[0;34m\u001b[0m\u001b[0m\n\u001b[1;32m    752\u001b[0m     \u001b[0;32mif\u001b[0m \u001b[0mformat\u001b[0m \u001b[0;34m==\u001b[0m \u001b[0;34m\"raw\"\u001b[0m\u001b[0;34m:\u001b[0m\u001b[0;34m\u001b[0m\u001b[0;34m\u001b[0m\u001b[0m\n",
      "\u001b[0;32m~/opt/anaconda3/lib/python3.8/site-packages/nltk/data.py\u001b[0m in \u001b[0;36m_open\u001b[0;34m(resource_url)\u001b[0m\n\u001b[1;32m    873\u001b[0m \u001b[0;34m\u001b[0m\u001b[0m\n\u001b[1;32m    874\u001b[0m     \u001b[0;32mif\u001b[0m \u001b[0mprotocol\u001b[0m \u001b[0;32mis\u001b[0m \u001b[0;32mNone\u001b[0m \u001b[0;32mor\u001b[0m \u001b[0mprotocol\u001b[0m\u001b[0;34m.\u001b[0m\u001b[0mlower\u001b[0m\u001b[0;34m(\u001b[0m\u001b[0;34m)\u001b[0m \u001b[0;34m==\u001b[0m \u001b[0;34m\"nltk\"\u001b[0m\u001b[0;34m:\u001b[0m\u001b[0;34m\u001b[0m\u001b[0;34m\u001b[0m\u001b[0m\n\u001b[0;32m--> 875\u001b[0;31m         \u001b[0;32mreturn\u001b[0m \u001b[0mfind\u001b[0m\u001b[0;34m(\u001b[0m\u001b[0mpath_\u001b[0m\u001b[0;34m,\u001b[0m \u001b[0mpath\u001b[0m \u001b[0;34m+\u001b[0m \u001b[0;34m[\u001b[0m\u001b[0;34m\"\"\u001b[0m\u001b[0;34m]\u001b[0m\u001b[0;34m)\u001b[0m\u001b[0;34m.\u001b[0m\u001b[0mopen\u001b[0m\u001b[0;34m(\u001b[0m\u001b[0;34m)\u001b[0m\u001b[0;34m\u001b[0m\u001b[0;34m\u001b[0m\u001b[0m\n\u001b[0m\u001b[1;32m    876\u001b[0m     \u001b[0;32melif\u001b[0m \u001b[0mprotocol\u001b[0m\u001b[0;34m.\u001b[0m\u001b[0mlower\u001b[0m\u001b[0;34m(\u001b[0m\u001b[0;34m)\u001b[0m \u001b[0;34m==\u001b[0m \u001b[0;34m\"file\"\u001b[0m\u001b[0;34m:\u001b[0m\u001b[0;34m\u001b[0m\u001b[0;34m\u001b[0m\u001b[0m\n\u001b[1;32m    877\u001b[0m         \u001b[0;31m# urllib might not use mode='rb', so handle this one ourselves:\u001b[0m\u001b[0;34m\u001b[0m\u001b[0;34m\u001b[0m\u001b[0;34m\u001b[0m\u001b[0m\n",
      "\u001b[0;32m~/opt/anaconda3/lib/python3.8/site-packages/nltk/data.py\u001b[0m in \u001b[0;36mfind\u001b[0;34m(resource_name, paths)\u001b[0m\n\u001b[1;32m    581\u001b[0m     \u001b[0msep\u001b[0m \u001b[0;34m=\u001b[0m \u001b[0;34m\"*\"\u001b[0m \u001b[0;34m*\u001b[0m \u001b[0;36m70\u001b[0m\u001b[0;34m\u001b[0m\u001b[0;34m\u001b[0m\u001b[0m\n\u001b[1;32m    582\u001b[0m     \u001b[0mresource_not_found\u001b[0m \u001b[0;34m=\u001b[0m \u001b[0;34m\"\\n%s\\n%s\\n%s\\n\"\u001b[0m \u001b[0;34m%\u001b[0m \u001b[0;34m(\u001b[0m\u001b[0msep\u001b[0m\u001b[0;34m,\u001b[0m \u001b[0mmsg\u001b[0m\u001b[0;34m,\u001b[0m \u001b[0msep\u001b[0m\u001b[0;34m)\u001b[0m\u001b[0;34m\u001b[0m\u001b[0;34m\u001b[0m\u001b[0m\n\u001b[0;32m--> 583\u001b[0;31m     \u001b[0;32mraise\u001b[0m \u001b[0mLookupError\u001b[0m\u001b[0;34m(\u001b[0m\u001b[0mresource_not_found\u001b[0m\u001b[0;34m)\u001b[0m\u001b[0;34m\u001b[0m\u001b[0;34m\u001b[0m\u001b[0m\n\u001b[0m\u001b[1;32m    584\u001b[0m \u001b[0;34m\u001b[0m\u001b[0m\n\u001b[1;32m    585\u001b[0m \u001b[0;34m\u001b[0m\u001b[0m\n",
      "\u001b[0;31mLookupError\u001b[0m: \n**********************************************************************\n  Resource \u001b[93mmaxent_ne_chunker\u001b[0m not found.\n  Please use the NLTK Downloader to obtain the resource:\n\n  \u001b[31m>>> import nltk\n  >>> nltk.download('maxent_ne_chunker')\n  \u001b[0m\n  For more information see: https://www.nltk.org/data.html\n\n  Attempted to load \u001b[93mchunkers/maxent_ne_chunker/PY3/english_ace_binary.pickle\u001b[0m\n\n  Searched in:\n    - '/Users/Sia/nltk_data'\n    - '/Users/Sia/opt/anaconda3/nltk_data'\n    - '/Users/Sia/opt/anaconda3/share/nltk_data'\n    - '/Users/Sia/opt/anaconda3/lib/nltk_data'\n    - '/usr/share/nltk_data'\n    - '/usr/local/share/nltk_data'\n    - '/usr/lib/nltk_data'\n    - '/usr/local/lib/nltk_data'\n    - ''\n**********************************************************************\n"
     ]
    }
   ],
   "source": [
    "# Chunk each tagged sentence into named-entity chunks using nltk.ne_chunk_sents(). Along with pos_sentences, specify the additional keyword argument binary=True.\n",
    "\n",
    "chunked_sententes = nltk.ne_chunk_sents(pos_sentence, binary=True)"
   ]
  },
  {
   "cell_type": "code",
   "execution_count": null,
   "metadata": {},
   "outputs": [],
   "source": [
    "# Loop over each sentence and each chunk, and test whether it is a named-entity chunk by testing if it has the attribute label, and if the chunk.label() is equal to \"NE\". If so, print that chunk.\n",
    "\n",
    "for sent in chunked_sentences:\n",
    "    for chunk in sent:\n",
    "        if hasattr(chunk, \"label\") and chunk.label() == \"NE\":\n",
    "            print(chunk)"
   ]
  },
  {
   "cell_type": "code",
   "execution_count": 12,
   "metadata": {},
   "outputs": [
    {
     "ename": "NameError",
     "evalue": "name 'Tree' is not defined",
     "output_type": "error",
     "traceback": [
      "\u001b[0;31m---------------------------------------------------------------------------\u001b[0m",
      "\u001b[0;31mNameError\u001b[0m                                 Traceback (most recent call last)",
      "\u001b[0;32m<ipython-input-12-d06874e3b404>\u001b[0m in \u001b[0;36m<module>\u001b[0;34m\u001b[0m\n\u001b[1;32m      2\u001b[0m \u001b[0;31m# chart the diversity of named entity types in the articles.\u001b[0m\u001b[0;34m\u001b[0m\u001b[0;34m\u001b[0m\u001b[0;34m\u001b[0m\u001b[0m\n\u001b[1;32m      3\u001b[0m \u001b[0;34m\u001b[0m\u001b[0m\n\u001b[0;32m----> 4\u001b[0;31m chunked_sententes = [Tree('S', [('\\ufeffImage', 'NN'), ('copyright', 'NN'), Tree('ORGANIZATION', [('EPA', 'NNP'), ('Image', 'NNP')]), ('caption', 'NN'), ('Uber', 'NNP'), ('has', 'VBZ'), ('been', 'VBN'), ('criticised', 'VBN'), ('many', 'JJ'), ('times', 'NNS'), ('over', 'IN'), ('the', 'DT'), ('way', 'NN'), ('it', 'PRP'), ('runs', 'VBZ'), ('its', 'PRP$'), ('business', 'NN'), ('Ride-sharing', 'JJ'), ('firm', 'NN'), ('Uber', 'NNP'), ('is', 'VBZ'), ('facing', 'VBG'), ('a', 'DT'), ('criminal', 'JJ'), ('investigation', 'NN'), ('by', 'IN'), ('the', 'DT'), Tree('GPE', [('US', 'JJ')]), ('government', 'NN'), ('.', '.')]),\n\u001b[0m\u001b[1;32m      5\u001b[0m  \u001b[0mTree\u001b[0m\u001b[0;34m(\u001b[0m\u001b[0;34m'S'\u001b[0m\u001b[0;34m,\u001b[0m \u001b[0;34m[\u001b[0m\u001b[0;34m(\u001b[0m\u001b[0;34m'The'\u001b[0m\u001b[0;34m,\u001b[0m \u001b[0;34m'DT'\u001b[0m\u001b[0;34m)\u001b[0m\u001b[0;34m,\u001b[0m \u001b[0;34m(\u001b[0m\u001b[0;34m'scrutiny'\u001b[0m\u001b[0;34m,\u001b[0m \u001b[0;34m'NN'\u001b[0m\u001b[0;34m)\u001b[0m\u001b[0;34m,\u001b[0m \u001b[0;34m(\u001b[0m\u001b[0;34m'has'\u001b[0m\u001b[0;34m,\u001b[0m \u001b[0;34m'VBZ'\u001b[0m\u001b[0;34m)\u001b[0m\u001b[0;34m,\u001b[0m \u001b[0;34m(\u001b[0m\u001b[0;34m'started'\u001b[0m\u001b[0;34m,\u001b[0m \u001b[0;34m'VBN'\u001b[0m\u001b[0;34m)\u001b[0m\u001b[0;34m,\u001b[0m \u001b[0;34m(\u001b[0m\u001b[0;34m'because'\u001b[0m\u001b[0;34m,\u001b[0m \u001b[0;34m'IN'\u001b[0m\u001b[0;34m)\u001b[0m\u001b[0;34m,\u001b[0m \u001b[0;34m(\u001b[0m\u001b[0;34m'the'\u001b[0m\u001b[0;34m,\u001b[0m \u001b[0;34m'DT'\u001b[0m\u001b[0;34m)\u001b[0m\u001b[0;34m,\u001b[0m \u001b[0;34m(\u001b[0m\u001b[0;34m'firm'\u001b[0m\u001b[0;34m,\u001b[0m \u001b[0;34m'NN'\u001b[0m\u001b[0;34m)\u001b[0m\u001b[0;34m,\u001b[0m \u001b[0;34m(\u001b[0m\u001b[0;34m'is'\u001b[0m\u001b[0;34m,\u001b[0m \u001b[0;34m'VBZ'\u001b[0m\u001b[0;34m)\u001b[0m\u001b[0;34m,\u001b[0m \u001b[0;34m(\u001b[0m\u001b[0;34m'accused'\u001b[0m\u001b[0;34m,\u001b[0m \u001b[0;34m'VBN'\u001b[0m\u001b[0;34m)\u001b[0m\u001b[0;34m,\u001b[0m \u001b[0;34m(\u001b[0m\u001b[0;34m'of'\u001b[0m\u001b[0;34m,\u001b[0m \u001b[0;34m'IN'\u001b[0m\u001b[0;34m)\u001b[0m\u001b[0;34m,\u001b[0m \u001b[0;34m(\u001b[0m\u001b[0;34m'using'\u001b[0m\u001b[0;34m,\u001b[0m \u001b[0;34m'VBG'\u001b[0m\u001b[0;34m)\u001b[0m\u001b[0;34m,\u001b[0m \u001b[0;34m(\u001b[0m\u001b[0;34m'``'\u001b[0m\u001b[0;34m,\u001b[0m \u001b[0;34m'``'\u001b[0m\u001b[0;34m)\u001b[0m\u001b[0;34m,\u001b[0m \u001b[0;34m(\u001b[0m\u001b[0;34m'secret'\u001b[0m\u001b[0;34m,\u001b[0m \u001b[0;34m'JJ'\u001b[0m\u001b[0;34m)\u001b[0m\u001b[0;34m,\u001b[0m \u001b[0;34m(\u001b[0m\u001b[0;34m\"''\"\u001b[0m\u001b[0;34m,\u001b[0m \u001b[0;34m\"''\"\u001b[0m\u001b[0;34m)\u001b[0m\u001b[0;34m,\u001b[0m \u001b[0;34m(\u001b[0m\u001b[0;34m'software'\u001b[0m\u001b[0;34m,\u001b[0m \u001b[0;34m'NN'\u001b[0m\u001b[0;34m)\u001b[0m\u001b[0;34m,\u001b[0m \u001b[0;34m(\u001b[0m\u001b[0;34m'that'\u001b[0m\u001b[0;34m,\u001b[0m \u001b[0;34m'WDT'\u001b[0m\u001b[0;34m)\u001b[0m\u001b[0;34m,\u001b[0m \u001b[0;34m(\u001b[0m\u001b[0;34m'let'\u001b[0m\u001b[0;34m,\u001b[0m \u001b[0;34m'VBD'\u001b[0m\u001b[0;34m)\u001b[0m\u001b[0;34m,\u001b[0m \u001b[0;34m(\u001b[0m\u001b[0;34m'it'\u001b[0m\u001b[0;34m,\u001b[0m \u001b[0;34m'PRP'\u001b[0m\u001b[0;34m)\u001b[0m\u001b[0;34m,\u001b[0m \u001b[0;34m(\u001b[0m\u001b[0;34m'operate'\u001b[0m\u001b[0;34m,\u001b[0m \u001b[0;34m'VB'\u001b[0m\u001b[0;34m)\u001b[0m\u001b[0;34m,\u001b[0m \u001b[0;34m(\u001b[0m\u001b[0;34m'in'\u001b[0m\u001b[0;34m,\u001b[0m \u001b[0;34m'IN'\u001b[0m\u001b[0;34m)\u001b[0m\u001b[0;34m,\u001b[0m \u001b[0;34m(\u001b[0m\u001b[0;34m'regions'\u001b[0m\u001b[0;34m,\u001b[0m \u001b[0;34m'NNS'\u001b[0m\u001b[0;34m)\u001b[0m\u001b[0;34m,\u001b[0m \u001b[0;34m(\u001b[0m\u001b[0;34m'where'\u001b[0m\u001b[0;34m,\u001b[0m \u001b[0;34m'WRB'\u001b[0m\u001b[0;34m)\u001b[0m\u001b[0;34m,\u001b[0m \u001b[0;34m(\u001b[0m\u001b[0;34m'it'\u001b[0m\u001b[0;34m,\u001b[0m \u001b[0;34m'PRP'\u001b[0m\u001b[0;34m)\u001b[0m\u001b[0;34m,\u001b[0m \u001b[0;34m(\u001b[0m\u001b[0;34m'was'\u001b[0m\u001b[0;34m,\u001b[0m \u001b[0;34m'VBD'\u001b[0m\u001b[0;34m)\u001b[0m\u001b[0;34m,\u001b[0m \u001b[0;34m(\u001b[0m\u001b[0;34m'banned'\u001b[0m\u001b[0;34m,\u001b[0m \u001b[0;34m'VBN'\u001b[0m\u001b[0;34m)\u001b[0m\u001b[0;34m,\u001b[0m \u001b[0;34m(\u001b[0m\u001b[0;34m'or'\u001b[0m\u001b[0;34m,\u001b[0m \u001b[0;34m'CC'\u001b[0m\u001b[0;34m)\u001b[0m\u001b[0;34m,\u001b[0m \u001b[0;34m(\u001b[0m\u001b[0;34m'restricted'\u001b[0m\u001b[0;34m,\u001b[0m \u001b[0;34m'VBN'\u001b[0m\u001b[0;34m)\u001b[0m\u001b[0;34m,\u001b[0m \u001b[0;34m(\u001b[0m\u001b[0;34m'.'\u001b[0m\u001b[0;34m,\u001b[0m \u001b[0;34m'.'\u001b[0m\u001b[0;34m)\u001b[0m\u001b[0;34m]\u001b[0m\u001b[0;34m)\u001b[0m\u001b[0;34m,\u001b[0m\u001b[0;34m\u001b[0m\u001b[0;34m\u001b[0m\u001b[0m\n\u001b[1;32m      6\u001b[0m  \u001b[0mTree\u001b[0m\u001b[0;34m(\u001b[0m\u001b[0;34m'S'\u001b[0m\u001b[0;34m,\u001b[0m \u001b[0;34m[\u001b[0m\u001b[0;34m(\u001b[0m\u001b[0;34m'The'\u001b[0m\u001b[0;34m,\u001b[0m \u001b[0;34m'DT'\u001b[0m\u001b[0;34m)\u001b[0m\u001b[0;34m,\u001b[0m \u001b[0;34m(\u001b[0m\u001b[0;34m'software'\u001b[0m\u001b[0;34m,\u001b[0m \u001b[0;34m'NN'\u001b[0m\u001b[0;34m)\u001b[0m\u001b[0;34m,\u001b[0m \u001b[0;34m(\u001b[0m\u001b[0;34m','\u001b[0m\u001b[0;34m,\u001b[0m \u001b[0;34m','\u001b[0m\u001b[0;34m)\u001b[0m\u001b[0;34m,\u001b[0m \u001b[0;34m(\u001b[0m\u001b[0;34m'called'\u001b[0m\u001b[0;34m,\u001b[0m \u001b[0;34m'VBN'\u001b[0m\u001b[0;34m)\u001b[0m\u001b[0;34m,\u001b[0m \u001b[0;34m(\u001b[0m\u001b[0;34m'``'\u001b[0m\u001b[0;34m,\u001b[0m \u001b[0;34m'``'\u001b[0m\u001b[0;34m)\u001b[0m\u001b[0;34m,\u001b[0m \u001b[0;34m(\u001b[0m\u001b[0;34m'greyball'\u001b[0m\u001b[0;34m,\u001b[0m \u001b[0;34m'NN'\u001b[0m\u001b[0;34m)\u001b[0m\u001b[0;34m,\u001b[0m \u001b[0;34m(\u001b[0m\u001b[0;34m\"''\"\u001b[0m\u001b[0;34m,\u001b[0m \u001b[0;34m\"''\"\u001b[0m\u001b[0;34m)\u001b[0m\u001b[0;34m,\u001b[0m \u001b[0;34m(\u001b[0m\u001b[0;34m','\u001b[0m\u001b[0;34m,\u001b[0m \u001b[0;34m','\u001b[0m\u001b[0;34m)\u001b[0m\u001b[0;34m,\u001b[0m \u001b[0;34m(\u001b[0m\u001b[0;34m'helped'\u001b[0m\u001b[0;34m,\u001b[0m \u001b[0;34m'VBD'\u001b[0m\u001b[0;34m)\u001b[0m\u001b[0;34m,\u001b[0m \u001b[0;34m(\u001b[0m\u001b[0;34m'it'\u001b[0m\u001b[0;34m,\u001b[0m \u001b[0;34m'PRP'\u001b[0m\u001b[0;34m)\u001b[0m\u001b[0;34m,\u001b[0m \u001b[0;34m(\u001b[0m\u001b[0;34m'identify'\u001b[0m\u001b[0;34m,\u001b[0m \u001b[0;34m'VB'\u001b[0m\u001b[0;34m)\u001b[0m\u001b[0;34m,\u001b[0m \u001b[0;34m(\u001b[0m\u001b[0;34m'officials'\u001b[0m\u001b[0;34m,\u001b[0m \u001b[0;34m'NNS'\u001b[0m\u001b[0;34m)\u001b[0m\u001b[0;34m,\u001b[0m \u001b[0;34m(\u001b[0m\u001b[0;34m'seeking'\u001b[0m\u001b[0;34m,\u001b[0m \u001b[0;34m'VBG'\u001b[0m\u001b[0;34m)\u001b[0m\u001b[0;34m,\u001b[0m \u001b[0;34m(\u001b[0m\u001b[0;34m'to'\u001b[0m\u001b[0;34m,\u001b[0m \u001b[0;34m'TO'\u001b[0m\u001b[0;34m)\u001b[0m\u001b[0;34m,\u001b[0m \u001b[0;34m(\u001b[0m\u001b[0;34m'stop'\u001b[0m\u001b[0;34m,\u001b[0m \u001b[0;34m'VB'\u001b[0m\u001b[0;34m)\u001b[0m\u001b[0;34m,\u001b[0m \u001b[0;34m(\u001b[0m\u001b[0;34m'the'\u001b[0m\u001b[0;34m,\u001b[0m \u001b[0;34m'DT'\u001b[0m\u001b[0;34m)\u001b[0m\u001b[0;34m,\u001b[0m \u001b[0;34m(\u001b[0m\u001b[0;34m'service'\u001b[0m\u001b[0;34m,\u001b[0m \u001b[0;34m'NN'\u001b[0m\u001b[0;34m)\u001b[0m\u001b[0;34m,\u001b[0m \u001b[0;34m(\u001b[0m\u001b[0;34m'running'\u001b[0m\u001b[0;34m,\u001b[0m \u001b[0;34m'VBG'\u001b[0m\u001b[0;34m)\u001b[0m\u001b[0;34m,\u001b[0m \u001b[0;34m(\u001b[0m\u001b[0;34m'.'\u001b[0m\u001b[0;34m,\u001b[0m \u001b[0;34m'.'\u001b[0m\u001b[0;34m)\u001b[0m\u001b[0;34m]\u001b[0m\u001b[0;34m)\u001b[0m\u001b[0;34m,\u001b[0m\u001b[0;34m\u001b[0m\u001b[0;34m\u001b[0m\u001b[0m\n",
      "\u001b[0;31mNameError\u001b[0m: name 'Tree' is not defined"
     ]
    }
   ],
   "source": [
    "# Charting Practice\n",
    "# chart the diversity of named entity types in the articles.\n",
    "\n",
    "chunked_sententes = [Tree('S', [('\\ufeffImage', 'NN'), ('copyright', 'NN'), Tree('ORGANIZATION', [('EPA', 'NNP'), ('Image', 'NNP')]), ('caption', 'NN'), ('Uber', 'NNP'), ('has', 'VBZ'), ('been', 'VBN'), ('criticised', 'VBN'), ('many', 'JJ'), ('times', 'NNS'), ('over', 'IN'), ('the', 'DT'), ('way', 'NN'), ('it', 'PRP'), ('runs', 'VBZ'), ('its', 'PRP$'), ('business', 'NN'), ('Ride-sharing', 'JJ'), ('firm', 'NN'), ('Uber', 'NNP'), ('is', 'VBZ'), ('facing', 'VBG'), ('a', 'DT'), ('criminal', 'JJ'), ('investigation', 'NN'), ('by', 'IN'), ('the', 'DT'), Tree('GPE', [('US', 'JJ')]), ('government', 'NN'), ('.', '.')]),\n",
    " Tree('S', [('The', 'DT'), ('scrutiny', 'NN'), ('has', 'VBZ'), ('started', 'VBN'), ('because', 'IN'), ('the', 'DT'), ('firm', 'NN'), ('is', 'VBZ'), ('accused', 'VBN'), ('of', 'IN'), ('using', 'VBG'), ('``', '``'), ('secret', 'JJ'), (\"''\", \"''\"), ('software', 'NN'), ('that', 'WDT'), ('let', 'VBD'), ('it', 'PRP'), ('operate', 'VB'), ('in', 'IN'), ('regions', 'NNS'), ('where', 'WRB'), ('it', 'PRP'), ('was', 'VBD'), ('banned', 'VBN'), ('or', 'CC'), ('restricted', 'VBN'), ('.', '.')]),\n",
    " Tree('S', [('The', 'DT'), ('software', 'NN'), (',', ','), ('called', 'VBN'), ('``', '``'), ('greyball', 'NN'), (\"''\", \"''\"), (',', ','), ('helped', 'VBD'), ('it', 'PRP'), ('identify', 'VB'), ('officials', 'NNS'), ('seeking', 'VBG'), ('to', 'TO'), ('stop', 'VB'), ('the', 'DT'), ('service', 'NN'), ('running', 'VBG'), ('.', '.')]),\n",
    " Tree('S', [('A', 'DT'), ('spokesman', 'NN'), ('for', 'IN'), Tree('PERSON', [('Uber', 'NNP')]), ('declined', 'VBD'), ('to', 'TO'), ('comment', 'VB'), ('on', 'IN'), ('the', 'DT'), ('investigation', 'NN'), (',', ','), ('reported', 'VBD'), ('the', 'DT'), Tree('ORGANIZATION', [('Reuters', 'NNPS')]), ('news', 'NN'), ('agency', 'NN'), ('.', '.')]),\n",
    " Tree('S', [('The', 'DT'), ('criminal', 'JJ'), ('inquiry', 'NN'), ('comes', 'VBZ'), ('at', 'IN'), ('a', 'DT'), ('difficult', 'JJ'), ('time', 'NN'), ('for', 'IN'), ('Uber', 'NNP'), ('which', 'WDT'), ('has', 'VBZ'), ('faced', 'VBN'), ('criticism', 'NN'), ('on', 'IN'), ('many', 'JJ'), ('fronts', 'NNS'), ('.', '.')]),\n",
    " Tree('S', [('It', 'PRP'), ('is', 'VBZ'), ('currently', 'RB'), ('fighting', 'VBG'), ('a', 'DT'), ('lawsuit', 'NN'), ('from', 'IN'), ('Google-backed', 'JJ'), ('self-driving', 'JJ'), ('car', 'NN'), ('firm', 'NN'), ('Waymo.Despite', 'NNP'), ('all', 'PDT'), ('the', 'DT'), ('current', 'JJ'), ('hype', 'NN'), ('about', 'IN'), ('the', 'DT'), ('rise', 'NN'), ('of', 'IN'), ('voice-assisted', 'JJ'), ('devices', 'NNS'), ('using', 'VBG'), Tree('PERSON', [('Alexa', 'NNP')]), ('and', 'CC'), Tree('PERSON', [('Siri', 'NNP')]), (',', ','), ('linguistics', 'VBZ'), ('researcher', 'JJR'), Tree('PERSON', [('Rachael', 'NNP'), ('Tatman', 'NNP')]), ('found', 'VBD'), ('people', 'NNS'), ('complaining', 'VBG'), ('on', 'IN'), ('social', 'JJ'), ('media', 'NNS'), ('that', 'IN'), ('the', 'DT'), ('technology', 'NN'), ('still', 'RB'), ('doesn', 'VBZ'), ('’', 'JJ'), ('t', 'NN'), ('understand', 'VBP'), ('them', 'PRP'), ('.', '.')]),\n",
    " Tree('S', [('That', 'DT'), ('’', 'VBZ'), ('s', 'JJ'), ('especially', 'RB'), ('true', 'JJ'), ('with', 'IN'), ('regional', 'JJ'), ('accents', 'NNS'), ('of', 'IN'), ('people', 'NNS'), ('who', 'WP'), ('live', 'VBP'), ('in', 'IN'), ('the', 'DT'), Tree('LOCATION', [('South', 'NNP')]), ('or', 'CC'), ('are', 'VBP'), ('from', 'IN'), ('countries', 'NNS'), ('like', 'IN'), Tree('ORGANIZATION', [('New', 'NNP'), ('Zealand', 'NNP')]), (',', ','), Tree('PERSON', [('Tatman', 'NNP')]), ('said', 'VBD'), ('last', 'JJ'), ('week', 'NN'), ('during', 'IN'), ('a', 'DT'), ('conference', 'NN'), ('in', 'IN'), Tree('GPE', [('San', 'NNP'), ('Francisco', 'NNP')]), ('.', '.')]),\n",
    " Tree('S', [('“', 'RB'), ('So', 'RB'), ('this', 'DT'), ('is', 'VBZ'), ('the', 'DT'), ('whatever', 'NN'), ('the', 'DT'), ('opposite', 'NN'), ('of', 'IN'), ('delight', 'NN'), ('is', 'VBZ'), ('as', 'IN'), ('a', 'DT'), ('user', 'NN'), ('experience', 'NN'), (',', ','), ('”', 'NNP'), ('she', 'PRP'), ('said', 'VBD'), ('.', '.')]),\n",
    " Tree('S', [('“', 'JJ'), ('People', 'NNS'), ('are', 'VBP'), ('so', 'RB'), ('upset', 'JJ'), ('that', 'IN'), ('they', 'PRP'), ('’', 'VBP'), ('re', 'VBP'), ('going', 'VBG'), ('on', 'IN'), Tree('PERSON', [('Twitter', 'NNP')]), ('and', 'CC'), ('yelling', 'VBG'), ('about', 'IN'), ('it.', 'JJ'), ('”', 'NNP'), Tree('PERSON', [('Tatman', 'NNP')]), (',', ','), ('a', 'DT'), ('doctoral', 'JJ'), ('candidate', 'NN'), ('with', 'IN'), ('the', 'DT'), Tree('ORGANIZATION', [('University', 'NNP')]), ('of', 'IN'), Tree('GPE', [('Washington', 'NNP')]), ('’', 'NNP'), ('s', 'VBP'), ('linguistics', 'NNS'), ('department', 'NN'), (',', ','), ('was', 'VBD'), ('one', 'CD'), ('of', 'IN'), ('the', 'DT'), ('speakers', 'NNS'), ('at', 'IN'), ('a', 'DT'), ('two-day', 'JJ'), Tree('PERSON', [('Virtual', 'NNP'), ('Assistant', 'NNP'), ('Summit', 'NNP')]), (',', ','), ('which', 'WDT'), ('wrapped', 'VBD'), ('up', 'RP'), ('Friday', 'NNP'), ('at', 'IN'), ('the', 'DT'), Tree('FACILITY', [('Park', 'NNP'), ('Central', 'NNP'), ('Hotel', 'NNP')]), ('.', '.')]),\n",
    " Tree('S', [('The', 'DT'), ('conference', 'NN'), (',', ','), ('and', 'CC'), ('an', 'DT'), ('adjacent', 'JJ'), ('Deep', 'NNP'), ('Learning', 'NNP'), ('Summit', 'NNP'), (',', ','), ('drew', 'VBD'), ('about', 'IN'), ('600', 'CD'), ('people', 'NNS'), ('representing', 'VBG'), ('companies', 'NNS'), ('that', 'WDT'), ('are', 'VBP'), ('working', 'VBG'), ('on', 'IN'), ('advancing', 'VBG'), ('artificial', 'JJ'), ('intelligence', 'NN'), (',', ','), ('machine', 'NN'), ('learning', 'NN'), ('and', 'CC'), ('robotics', 'NNS'), ('.', '.')]),\n",
    " Tree('S', [('Lots', 'NNS'), ('of', 'IN'), ('people', 'NNS'), ('are', 'VBP'), ('already', 'RB'), ('using', 'VBG'), ('those', 'DT'), ('technologies', 'NNS'), ('in', 'IN'), ('programs', 'NNS'), ('like', 'IN'), Tree('PERSON', [('Apple', 'NNP')]), ('’', 'NNP'), ('s', 'VBD'), Tree('PERSON', [('Siri', 'NNP')]), ('.', '.')]),\n",
    " Tree('S', [('They', 'PRP'), ('are', 'VBP'), ('moving', 'VBG'), ('beyond', 'IN'), ('mobile', 'JJ'), ('phones', 'NNS'), ('and', 'CC'), ('into', 'IN'), ('smart-home', 'JJ'), ('devices', 'NNS'), ('like', 'IN'), Tree('PERSON', [('Amazon', 'NNP')]), ('’', 'NNP'), ('s', 'VBD'), Tree('PERSON', [('Echo', 'NNP')]), ('.', '.')]),\n",
    " Tree('S', [('Other', 'JJ'), ('fast-changing', 'JJ'), ('technologies', 'NNS'), ('include', 'VBP'), ('artificial', 'JJ'), ('intelligence', 'NN'), ('and', 'CC'), ('consumer', 'NN'), ('robotics', 'NNS'), (',', ','), ('especially', 'RB'), ('with', 'IN'), ('self-driving', 'JJ'), ('cars', 'NNS'), ('on', 'IN'), ('the', 'DT'), ('horizon', 'NN'), ('.', '.')]),\n",
    " Tree('S', [('But', 'CC'), ('there', 'EX'), ('’', 'NNP'), ('s', 'NN'), ('still', 'RB'), ('work', 'VB'), ('to', 'TO'), ('be', 'VB'), ('done', 'VBN'), ('in', 'IN'), ('each', 'DT'), ('of', 'IN'), ('those', 'DT'), ('areas', 'NNS'), (',', ','), ('speakers', 'NNS'), ('said', 'VBD'), ('.', '.')]),\n",
    " Tree('S', [('For', 'IN'), ('example', 'NN'), (',', ','), ('artificial', 'JJ'), ('speech', 'NN'), ('recognition', 'NN'), ('technologies', 'NNS'), ('still', 'RB'), ('fall', 'VBP'), ('short', 'JJ'), ('of', 'IN'), ('the', 'DT'), ('way', 'NN'), ('humans', 'NNS'), ('can', 'MD'), ('quickly', 'RB'), ('learn', 'VB'), ('and', 'CC'), ('discern', 'VB'), ('speech', 'NN'), ('patterns', 'NNS'), ('from', 'IN'), ('each', 'DT'), ('other', 'JJ'), ('in', 'IN'), ('“', 'NNP'), ('as', 'RB'), ('little', 'JJ'), ('as', 'IN'), ('two', 'CD'), ('sentences', 'NNS'), (',', ','), ('”', 'NNP'), Tree('PERSON', [('Tatman', 'NNP')]), ('said', 'VBD'), ('.', '.')]),\n",
    " Tree('S', [('But', 'CC'), ('that', 'DT'), ('’', 'VBD'), ('s', 'NN'), ('because', 'IN'), ('humans', 'NNS'), ('take', 'VBP'), ('into', 'IN'), ('account', 'NN'), ('other', 'JJ'), ('factors', 'NNS'), (',', ','), ('such', 'JJ'), ('as', 'IN'), ('the', 'DT'), ('gender', 'NN'), ('of', 'IN'), ('person', 'NN'), ('talking', 'VBG'), ('or', 'CC'), ('whether', 'IN'), ('they', 'PRP'), ('’', 'VBP'), ('ve', 'RB'), ('previously', 'RB'), ('met', 'VBN'), ('someone', 'NN'), ('from', 'IN'), ('the', 'DT'), ('the', 'DT'), ('same', 'JJ'), ('region', 'NN'), (',', ','), ('she', 'PRP'), ('said', 'VBD'), ('.', '.')]),\n",
    " Tree('S', [Tree('PERSON', [('Tatman', 'NNP')]), ('examined', 'VBD'), Tree('ORGANIZATION', [('YouTube', 'NNP')]), ('’', 'NNP'), ('s', 'VBD'), ('automatic', 'JJ'), ('captioning', 'NN'), ('program', 'NN'), (',', ','), ('which', 'WDT'), ('can', 'MD'), ('translate', 'VB'), ('spoken', 'JJ'), ('words', 'NNS'), ('into', 'IN'), ('text', 'NN'), ('in', 'IN'), ('several', 'JJ'), ('languages', 'NNS'), ('.', '.')]),\n",
    " Tree('S', [('She', 'PRP'), ('found', 'VBD'), ('that', 'IN'), ('more', 'RBR'), ('errors', 'NNS'), ('showed', 'VBD'), ('up', 'RP'), ('in', 'IN'), ('translations', 'NNS'), ('from', 'IN'), ('speakers', 'NNS'), ('who', 'WP'), ('had', 'VBD'), ('a', 'DT'), Tree('GPE', [('Southern', 'JJ')]), ('accent', 'NN'), ('than', 'IN'), ('from', 'IN'), ('people', 'NNS'), ('who', 'WP'), ('lived', 'VBD'), ('in', 'IN'), Tree('GPE', [('California', 'NNP')]), ('.', '.')]),\n",
    " Tree('S', [('“', 'VB'), ('The', 'DT'), Tree('GPE', [('South', 'NNP')]), ('is', 'VBZ'), ('the', 'DT'), ('largest', 'JJS'), ('demographic', 'JJ'), ('region', 'NN'), ('in', 'IN'), ('the', 'DT'), Tree('GPE', [('United', 'NNP'), ('States', 'NNPS')]), (',', ','), ('”', 'NNP'), ('she', 'PRP'), ('said', 'VBD'), ('.', '.')]),\n",
    " Tree('S', [('“', 'NN'), ('If', 'IN'), ('you', 'PRP'), ('’', 'VBP'), ('re', 'VB'), ('using', 'VBG'), ('a', 'DT'), ('voice-based', 'JJ'), ('virtual', 'JJ'), ('assistant', 'NN'), ('and', 'CC'), ('you', 'PRP'), ('can', 'MD'), ('’', 'VB'), ('t', 'JJ'), ('deal', 'NN'), ('with', 'IN'), Tree('GPE', [('Southern', 'NNP')]), ('speech', 'NN'), (',', ','), ('you', 'PRP'), ('’', 'VBP'), ('re', 'VB'), ('going', 'VBG'), ('to', 'TO'), ('have', 'VB'), ('problems', 'NNS'), ('reaching', 'VBG'), ('this', 'DT'), ('market.', 'NN'), ('”', 'NN'), ('For', 'IN'), ('businesses', 'NNS'), ('trying', 'VBG'), ('to', 'TO'), ('serve', 'VB'), ('those', 'DT'), ('markets', 'NNS'), (',', ','), ('speech', 'JJ'), ('recognition', 'NN'), ('technology', 'NN'), ('could', 'MD'), ('be', 'VB'), ('crucial', 'JJ'), ('to', 'TO'), ('future', 'JJ'), ('revenue', 'NN'), (',', ','), ('said', 'VBD'), Tree('PERSON', [('Stephen', 'NNP'), ('Scarr', 'NNP')]), (',', ','), Tree('ORGANIZATION', [('CEO', 'NNP')]), ('of', 'IN'), ('search', 'NN'), ('services', 'NNS'), ('Info.com', 'NNP'), ('and', 'CC'), Tree('ORGANIZATION', [('eContext', 'NN')]), ('.', '.')]),\n",
    " Tree('S', [('Advertisement', 'NNP'), ('Continue', 'NNP'), ('reading', 'VBG'), ('the', 'DT'), ('main', 'JJ'), ('story', 'NN'), Tree('GPE', [('European', 'JJ')]), ('countries', 'NNS'), ('have', 'VBP'), ('different', 'JJ'), ('languages', 'NNS'), (',', ','), ('and', 'CC'), ('their', 'PRP$'), ('media', 'NNS'), ('markets', 'NNS'), ('are', 'VBP'), ('smaller', 'JJR'), ('than', 'IN'), ('those', 'DT'), ('in', 'IN'), ('the', 'DT'), Tree('GPE', [('United', 'NNP'), ('States', 'NNPS')]), ('.', '.')]),\n",
    " Tree('S', [('That', 'DT'), ('means', 'VBZ'), ('groups', 'NNS'), ('that', 'WDT'), ('set', 'VBD'), ('up', 'RP'), ('fake', 'JJ'), ('news', 'NN'), ('sites', 'NNS'), ('in', 'IN'), ('the', 'DT'), Tree('GPE', [('United', 'NNP'), ('States', 'NNPS')]), (',', ','), ('seeking', 'VBG'), ('to', 'TO'), ('profit', 'VB'), ('from', 'IN'), ('online', 'JJ'), ('advertising', 'NN'), ('when', 'WRB'), ('false', 'JJ'), ('claims', 'NNS'), ('were', 'VBD'), ('shared', 'VBN'), ('on', 'IN'), ('social', 'JJ'), ('media', 'NNS'), (',', ','), ('are', 'VBP'), ('less', 'RBR'), ('prevalent', 'JJ'), ('in', 'IN'), Tree('GPE', [('Europe', 'NNP')]), ('.', '.')]),\n",
    " Tree('S', [('Advertisement', 'NNP'), ('Continue', 'NNP'), ('reading', 'VBG'), ('the', 'DT'), ('main', 'JJ'), ('story', 'NN'), ('So', 'NNP'), ('far', 'RB'), (',', ','), ('outright', 'JJ'), ('fake', 'VBP'), ('news', 'NN'), ('stories', 'NNS'), ('have', 'VBP'), ('been', 'VBN'), ('relatively', 'RB'), ('rare', 'JJ'), ('.', '.')]),\n",
    " Tree('S', [('Instead', 'RB'), (',', ','), ('false', 'JJ'), ('reports', 'NNS'), ('have', 'VBP'), ('more', 'RBR'), ('often', 'RB'), ('come', 'VBN'), ('from', 'IN'), Tree('GPE', [('Europeans', 'NNPS')]), ('on', 'IN'), ('social', 'JJ'), ('media', 'NNS'), ('taking', 'VBG'), ('real', 'JJ'), ('news', 'NN'), ('out', 'IN'), ('of', 'IN'), ('context', 'NN'), (',', ','), ('as', 'RB'), ('well', 'RB'), ('as', 'IN'), ('from', 'IN'), ('fake', 'NN'), ('claims', 'NNS'), ('spread', 'VBN'), ('by', 'IN'), ('state-backed', 'JJ'), ('groups', 'NNS'), ('like', 'IN'), Tree('PERSON', [('Sputnik', 'NNP')]), (',', ','), ('the', 'DT'), Tree('GPE', [('Russian', 'JJ')]), ('news', 'NN'), ('organization', 'NN'), ('.', '.')]),\n",
    " Tree('S', [('(', '('), ('REUTERS/Edgar', 'NNP'), ('Su', 'NNP'), (')', ')'), ('The', 'DT'), Tree('ORGANIZATION', [('United', 'NNP'), ('Nations', 'NNP')]), ('forecasts', 'VBZ'), ('that', 'IN'), ('the', 'DT'), ('global', 'JJ'), ('population', 'NN'), ('will', 'MD'), ('rise', 'VB'), ('from', 'IN'), ('7.3', 'CD'), ('billion', 'CD'), ('to', 'TO'), ('nearly', 'RB'), ('10', 'CD'), ('billion', 'CD'), ('by', 'IN'), ('2050', 'CD'), (',', ','), ('a', 'DT'), ('big', 'JJ'), ('number', 'NN'), ('that', 'WDT'), ('often', 'RB'), ('prompts', 'VBZ'), ('warnings', 'NNS'), ('about', 'IN'), ('overpopulation', 'NN'), ('.', '.')]),\n",
    " Tree('S', [('Since', 'IN'), ('its', 'PRP$'), ('peak', 'NN'), ('in', 'IN'), ('the', 'DT'), ('1960s', 'CD'), (',', ','), ('that', 'DT'), ('rate', 'NN'), ('has', 'VBZ'), ('slumped', 'VBN'), ('by', 'IN'), ('almost', 'RB'), ('half', 'NN'), ('to', 'TO'), ('just', 'RB'), ('1', 'CD'), ('percent', 'NN'), (',', ','), ('and', 'CC'), ('the', 'DT'), Tree('ORGANIZATION', [('U.N.', 'NNP')]), ('forecast', 'NN'), ('assumes', 'VBZ'), ('that', 'IN'), ('this', 'DT'), ('slowdown', 'NN'), ('will', 'MD'), ('continue', 'VB'), ('.', '.')]),\n",
    " Tree('S', [('Women', 'NNS'), ('are', 'VBP'), ('having', 'VBG'), ('fewer', 'JJR'), ('children', 'NNS'), (',', ','), ('so', 'RB'), ('fewer', 'JJR'), ('people', 'NNS'), ('are', 'VBP'), ('entering', 'VBG'), ('the', 'DT'), ('working', 'VBG'), ('ages', 'NNS'), ('between', 'IN'), ('15', 'CD'), ('and', 'CC'), ('64', 'CD'), (',', ','), ('and', 'CC'), ('labor-force', 'JJ'), ('growth', 'NN'), ('is', 'VBZ'), ('poised', 'VBN'), ('to', 'TO'), ('decline', 'VB'), ('from', 'IN'), Tree('GPE', [('Chile', 'NNP')]), ('to', 'TO'), Tree('GPE', [('China', 'NNP')]), ('.', '.')]),\n",
    " Tree('S', [('At', 'IN'), ('the', 'DT'), ('same', 'JJ'), ('time', 'NN'), (',', ','), ('owing', 'VBG'), ('to', 'TO'), ('rapid', 'JJ'), ('advances', 'NNS'), ('in', 'IN'), ('health', 'NN'), ('care', 'NN'), ('and', 'CC'), ('medicine', 'NN'), (',', ','), ('people', 'NNS'), ('are', 'VBP'), ('living', 'VBG'), ('longer', 'JJR'), (',', ','), ('and', 'CC'), ('most', 'JJS'), ('of', 'IN'), ('the', 'DT'), ('coming', 'VBG'), ('global', 'JJ'), ('population', 'NN'), ('increase', 'NN'), ('will', 'MD'), ('be', 'VB'), ('among', 'IN'), ('the', 'DT'), ('retirement', 'NN'), ('crowd', 'NN'), ('.', '.')]),\n",
    " Tree('S', [('These', 'DT'), ('trends', 'NNS'), ('are', 'VBP'), ('toxic', 'JJ'), ('for', 'IN'), ('economic', 'JJ'), ('growth', 'NN'), (',', ','), ('and', 'CC'), ('boosting', 'VBG'), ('the', 'DT'), ('number', 'NN'), ('of', 'IN'), ('robots', 'NNS'), ('may', 'MD'), ('be', 'VB'), ('the', 'DT'), ('easiest', 'JJS'), ('answer', 'NN'), ('for', 'IN'), ('many', 'JJ'), ('countries', 'NNS'), ('.', '.')]),\n",
    " Tree('S', [('Studies', 'NNS'), ('by', 'IN'), Tree('PERSON', [('Evercore', 'NNP'), ('ISI', 'NNP')]), (',', ','), ('a', 'DT'), ('research', 'NN'), ('firm', 'NN'), (',', ','), ('show', 'VBP'), ('that', 'IN'), ('the', 'DT'), ('elderly', 'JJ'), ('share', 'NN'), ('of', 'IN'), ('the', 'DT'), ('population', 'NN'), ('is', 'VBZ'), ('rising', 'VBG'), ('more', 'JJR'), ('than', 'IN'), ('twice', 'RB'), ('as', 'RB'), ('fast', 'RB'), ('as', 'IN'), ('it', 'PRP'), ('did', 'VBD'), ('in', 'IN'), ('the', 'DT'), Tree('GPE', [('United', 'NNP'), ('States', 'NNPS')]), ('and', 'CC'), ('more', 'JJR'), ('than', 'IN'), ('four', 'CD'), ('times', 'NNS'), ('faster', 'RBR'), ('than', 'IN'), ('in', 'IN'), Tree('GPE', [('France', 'NNP')]), ('at', 'IN'), ('similar', 'JJ'), ('stages', 'NNS'), ('of', 'IN'), ('development', 'NN'), ('.', '.')]),\n",
    " Tree('S', [('Asked', 'VBN'), ('by', 'IN'), ('an', 'DT'), ('alarmed', 'JJ'), ('dinner', 'NN'), ('companion', 'NN'), ('about', 'IN'), ('the', 'DT'), ('threat', 'NN'), ('robots', 'NNS'), ('posed', 'VBD'), ('to', 'TO'), ('jobs', 'NNS'), ('in', 'IN'), Tree('GPE', [('China', 'NNP')]), (',', ','), Tree('GPE', [('Nobel', 'NNP')]), ('economist', 'NN'), Tree('PERSON', [('Daniel', 'NNP'), ('Kahneman', 'NNP')]), ('responded', 'VBD'), (':', ':'), ('“', 'NN'), ('You', 'PRP'), ('just', 'RB'), ('don', 'VB'), ('’', 'JJ'), ('t', 'NN'), ('get', 'VB'), ('it', 'PRP'), ('.', '.')]),\n",
    " Tree('S', [('In', 'IN'), Tree('GPE', [('China', 'NNP')]), (',', ','), ('the', 'DT'), ('robots', 'NNS'), ('are', 'VBP'), ('going', 'VBG'), ('to', 'TO'), ('come', 'VB'), ('just', 'RB'), ('in', 'IN'), ('time.', 'JJ'), ('”', 'NN'), ('No', 'NNP'), ('wonder', 'NN'), ('Beijing', 'NNP'), ('now', 'RB'), ('offers', 'VBZ'), ('heavy', 'JJ'), ('subsidies', 'NNS'), ('to', 'TO'), ('companies', 'NNS'), ('involved', 'VBN'), ('in', 'IN'), ('industrial', 'JJ'), ('automation', 'NN'), ('.', '.')]),\n",
    " Tree('S', [('These', 'DT'), ('alarms', 'NNS'), ('have', 'VBP'), ('sounded', 'VBN'), ('before', 'IN'), (',', ','), ('however', 'RB'), ('.', '.')]),\n",
    " Tree('S', [('The', 'DT'), Tree('ORGANIZATION', [('Machine', 'NNP'), ('Intelligence', 'NNP'), ('Research', 'NNP'), ('Institute', 'NNP')]), ('at', 'IN'), ('the', 'DT'), Tree('ORGANIZATION', [('University', 'NNP')]), ('of', 'IN'), Tree('GPE', [('California', 'NNP')]), ('at', 'IN'), Tree('ORGANIZATION', [('Berkeley', 'NNP')]), ('has', 'VBZ'), ('found', 'VBN'), ('that', 'IN'), ('today', 'NN'), (',', ','), ('the', 'DT'), ('average', 'JJ'), ('forecast', 'NN'), ('for', 'IN'), ('when', 'WRB'), ('artificial', 'JJ'), ('intelligence', 'NN'), ('will', 'MD'), ('arrive', 'VB'), ('is', 'VBZ'), ('about', 'IN'), ('20', 'CD'), ('years', 'NNS'), ('.', '.')]),\n",
    " Tree('S', [('But', 'CC'), ('that', 'DT'), ('was', 'VBD'), ('also', 'RB'), ('the', 'DT'), ('standard', 'NN'), ('prediction', 'NN'), ('in', 'IN'), ('1955', 'CD'), ('.', '.')]),\n",
    " Tree('S', [('And', 'CC'), ('often', 'RB'), (',', ','), ('humans', 'NNS'), ('find', 'VBP'), ('a', 'DT'), ('way', 'NN'), ('of', 'IN'), ('working', 'VBG'), ('with', 'IN'), ('their', 'PRP$'), ('automated', 'JJ'), ('creations', 'NNS'), ('.', '.')]),\n",
    " Tree('S', [('After', 'IN'), ('the', 'DT'), ('introduction', 'NN'), ('of', 'IN'), ('supermarket', 'NN'), ('scanners', 'NNS'), (',', ','), ('the', 'DT'), ('number', 'NN'), ('of', 'IN'), ('cashiers', 'NNS'), ('grew', 'VBD'), ('.', '.')]),\n",
    " Tree('S', [('Though', 'IN'), ('legal-discovery', 'JJ'), ('software', 'NN'), ('appeared', 'VBD'), ('to', 'TO'), ('threaten', 'VB'), ('the', 'DT'), ('jobs', 'NNS'), ('of', 'IN'), ('paralegals', 'NNS'), (',', ','), ('their', 'PRP$'), ('ranks', 'NNS'), ('increased', 'VBD'), (',', ','), ('too', 'RB'), ('.', '.')]),\n",
    " Tree('S', [('Today', 'NN'), (',', ','), ('population', 'NN'), ('trends', 'NNS'), ('are', 'VBP'), ('the', 'DT'), ('most', 'RBS'), ('powerful', 'JJ'), ('force', 'NN'), ('shaping', 'VBG'), ('the', 'DT'), ('rise', 'NN'), ('and', 'CC'), ('fall', 'NN'), ('of', 'IN'), ('nations', 'NNS'), (',', ','), ('the', 'DT'), ('starting', 'VBG'), ('point', 'NN'), ('of', 'IN'), ('any', 'DT'), ('discussion', 'NN'), ('about', 'IN'), ('an', 'DT'), ('economy', 'NN'), ('’', 'JJ'), ('s', 'JJ'), ('prospects', 'NNS'), ('.', '.')]),\n",
    " Tree('S', [('“', 'NN'), ('One', 'CD'), ('has', 'VBZ'), ('to', 'TO'), ('carefully', 'RB'), ('balance', 'VB'), ('benefits', 'NNS'), ('and', 'CC'), ('risks', 'NNS'), ('and', 'CC'), ('ensure', 'VB'), ('the', 'DT'), ('best', 'JJS'), ('exploitation', 'NN'), ('.', '.'), ('”', 'NN')])]"
   ]
  },
  {
   "cell_type": "code",
   "execution_count": 13,
   "metadata": {},
   "outputs": [
    {
     "ename": "NameError",
     "evalue": "name 'defaultdict' is not defined",
     "output_type": "error",
     "traceback": [
      "\u001b[0;31m---------------------------------------------------------------------------\u001b[0m",
      "\u001b[0;31mNameError\u001b[0m                                 Traceback (most recent call last)",
      "\u001b[0;32m<ipython-input-13-8ac80db4ae23>\u001b[0m in \u001b[0;36m<module>\u001b[0;34m\u001b[0m\n\u001b[1;32m      1\u001b[0m \u001b[0;31m# Create a defaultdict called ner_categories, with the default type set to int.\u001b[0m\u001b[0;34m\u001b[0m\u001b[0;34m\u001b[0m\u001b[0;34m\u001b[0m\u001b[0m\n\u001b[1;32m      2\u001b[0m \u001b[0;34m\u001b[0m\u001b[0m\n\u001b[0;32m----> 3\u001b[0;31m \u001b[0mner_categories\u001b[0m \u001b[0;34m=\u001b[0m \u001b[0mdefaultdict\u001b[0m\u001b[0;34m(\u001b[0m\u001b[0mint\u001b[0m\u001b[0;34m)\u001b[0m\u001b[0;34m\u001b[0m\u001b[0;34m\u001b[0m\u001b[0m\n\u001b[0m",
      "\u001b[0;31mNameError\u001b[0m: name 'defaultdict' is not defined"
     ]
    }
   ],
   "source": [
    "# Create a defaultdict called ner_categories, with the default type set to int.\n",
    "\n",
    "ner_categories = defaultdict(int)"
   ]
  },
  {
   "cell_type": "code",
   "execution_count": null,
   "metadata": {},
   "outputs": [],
   "source": [
    "# In the outer for loop, iterate over chunked_sentences, using sent as your iterator variable. In the inner for loop, iterate over sent. If the condition is true, increment the value of each key by 1. Remember to use the chunk's .label() method as the key! You can use hasattr() to determine if each chunk has a 'label' and then simply use the chunk's .label() method as the dictionary key.\n",
    "# Create the nested for loop\n",
    "for sent in chunked_sentences:\n",
    "    for chunk in sent:\n",
    "        if hasattr(chunk, 'label'):\n",
    "            ner_categories[chunk.label()] += 1"
   ]
  },
  {
   "cell_type": "code",
   "execution_count": null,
   "metadata": {},
   "outputs": [],
   "source": [
    "# Create a list from the dictionary keys for the chart labels: labels\n",
    "labels = list(ner_categories.keys())\n",
    "\n",
    "# Create a list of the values: values\n",
    "values = [ner_categories.get(v) for v in labels]"
   ]
  },
  {
   "cell_type": "code",
   "execution_count": null,
   "metadata": {},
   "outputs": [],
   "source": [
    "# Create the pie chart\n",
    "plt.pie(values, labels=labels, autopct='%1.1f%%', startangle=140)\n",
    "\n",
    "# Display the chart\n",
    "plt.show()"
   ]
  }
 ],
 "metadata": {
  "interpreter": {
   "hash": "90d056296a45556521e929369b7ac4560abf6ad78fcd7dc94e39c36823bee644"
  },
  "kernelspec": {
   "display_name": "Python 3.8.8 64-bit ('base': conda)",
   "language": "python",
   "name": "python3"
  },
  "language_info": {
   "codemirror_mode": {
    "name": "ipython",
    "version": 3
   },
   "file_extension": ".py",
   "mimetype": "text/x-python",
   "name": "python",
   "nbconvert_exporter": "python",
   "pygments_lexer": "ipython3",
   "version": "3.8.8"
  },
  "orig_nbformat": 4
 },
 "nbformat": 4,
 "nbformat_minor": 2
}
