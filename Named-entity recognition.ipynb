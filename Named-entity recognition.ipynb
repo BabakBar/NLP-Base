{
 "cells": [
  {
   "cell_type": "code",
   "execution_count": null,
   "metadata": {},
   "outputs": [],
   "source": [
    "# Named entity recognitation, NER\n",
    "# identify important named in text, tag colors\n",
    "# NLTK & Stanford CoreNLP Library"
   ]
  },
  {
   "cell_type": "code",
   "execution_count": null,
   "metadata": {},
   "outputs": [],
   "source": [
    "# Along with nltk, sent_tokenize and word_tokenize from nltk.tokenize\n",
    "# First we tokenize article into sentences "
   ]
  }
 ],
 "metadata": {
  "language_info": {
   "name": "python"
  },
  "orig_nbformat": 4
 },
 "nbformat": 4,
 "nbformat_minor": 2
}
