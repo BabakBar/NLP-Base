{
 "cells": [
  {
   "cell_type": "code",
   "execution_count": null,
   "metadata": {},
   "outputs": [],
   "source": [
    "# spaCy\n",
    "# focus on creating NLP pipeline to generate models and corpora\n",
    "# Displacy entity recognitation visualizer for labling"
   ]
  }
 ],
 "metadata": {
  "language_info": {
   "name": "python"
  },
  "orig_nbformat": 4
 },
 "nbformat": 4,
 "nbformat_minor": 2
}
